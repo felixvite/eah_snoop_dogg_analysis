{
 "cells": [
  {
   "cell_type": "code",
   "execution_count": 86,
   "id": "8946bb3c",
   "metadata": {},
   "outputs": [
    {
     "name": "stdout",
     "output_type": "stream",
     "text": [
      "Reset css and font defaults in:\n",
      "C:\\Users\\Felix\\.jupyter\\custom &\n",
      "C:\\Users\\Felix\\AppData\\Roaming\\jupyter\\nbextensions\n"
     ]
    }
   ],
   "source": [
    "from jupyterthemes import get_themes\n",
    "import jupyterthemes as jt\n",
    "from jupyterthemes.stylefx import set_nb_theme\n",
    "\n",
    "#set_nb_theme('chesterish')\n",
    "! jt -r"
   ]
  },
  {
   "cell_type": "code",
   "execution_count": 57,
   "id": "9717c141",
   "metadata": {},
   "outputs": [],
   "source": [
    "import pandas as pd\n",
    "import numpy as np\n",
    "import seaborn as sns\n",
    "import matplotlib.pyplot as plt\n",
    "import datetime as dt"
   ]
  },
  {
   "cell_type": "code",
   "execution_count": 58,
   "id": "2115306c",
   "metadata": {},
   "outputs": [
    {
     "data": {
      "text/html": [
       "<div>\n",
       "<style scoped>\n",
       "    .dataframe tbody tr th:only-of-type {\n",
       "        vertical-align: middle;\n",
       "    }\n",
       "\n",
       "    .dataframe tbody tr th {\n",
       "        vertical-align: top;\n",
       "    }\n",
       "\n",
       "    .dataframe thead th {\n",
       "        text-align: right;\n",
       "    }\n",
       "</style>\n",
       "<table border=\"1\" class=\"dataframe\">\n",
       "  <thead>\n",
       "    <tr style=\"text-align: right;\">\n",
       "      <th></th>\n",
       "      <th>Unnamed: 0</th>\n",
       "      <th>created_at</th>\n",
       "      <th>id</th>\n",
       "      <th>full_text</th>\n",
       "      <th>display_text_range</th>\n",
       "      <th>retweet_count</th>\n",
       "      <th>favorite_count</th>\n",
       "      <th>media_type</th>\n",
       "      <th>charGroup</th>\n",
       "    </tr>\n",
       "  </thead>\n",
       "  <tbody>\n",
       "    <tr>\n",
       "      <th>0</th>\n",
       "      <td>1</td>\n",
       "      <td>2022-12-02 15:11:19</td>\n",
       "      <td>1.598681e+18</td>\n",
       "      <td>Our new @mount_westmore single “ACTIVATED” out...</td>\n",
       "      <td>108</td>\n",
       "      <td>133</td>\n",
       "      <td>1177</td>\n",
       "      <td>photo</td>\n",
       "      <td>middle</td>\n",
       "    </tr>\n",
       "    <tr>\n",
       "      <th>1</th>\n",
       "      <td>2</td>\n",
       "      <td>2022-11-30 19:02:52</td>\n",
       "      <td>1.598015e+18</td>\n",
       "      <td>RT @DeathRowWine: Wine and hit tracks… yes sir...</td>\n",
       "      <td>106</td>\n",
       "      <td>64</td>\n",
       "      <td>0</td>\n",
       "      <td>photo</td>\n",
       "      <td>middle</td>\n",
       "    </tr>\n",
       "    <tr>\n",
       "      <th>2</th>\n",
       "      <td>3</td>\n",
       "      <td>2022-11-30 12:25:36</td>\n",
       "      <td>1.597915e+18</td>\n",
       "      <td>@RedditCFB 🟡🔴✌🏿⚔️🏈🤷🏾‍♂️</td>\n",
       "      <td>23</td>\n",
       "      <td>48</td>\n",
       "      <td>1589</td>\n",
       "      <td>0</td>\n",
       "      <td>small</td>\n",
       "    </tr>\n",
       "    <tr>\n",
       "      <th>3</th>\n",
       "      <td>4</td>\n",
       "      <td>2022-11-29 00:02:13</td>\n",
       "      <td>1.597365e+18</td>\n",
       "      <td>Frog Dogg. https://t.co/72Ced6UeM0</td>\n",
       "      <td>10</td>\n",
       "      <td>31060</td>\n",
       "      <td>490106</td>\n",
       "      <td>photo</td>\n",
       "      <td>small</td>\n",
       "    </tr>\n",
       "    <tr>\n",
       "      <th>4</th>\n",
       "      <td>5</td>\n",
       "      <td>2022-11-28 19:59:36</td>\n",
       "      <td>1.597304e+18</td>\n",
       "      <td>RT @shiller: 1/ Introducing Shiller.\\r\\n\\r\\nA ...</td>\n",
       "      <td>140</td>\n",
       "      <td>83</td>\n",
       "      <td>0</td>\n",
       "      <td>0</td>\n",
       "      <td>middle</td>\n",
       "    </tr>\n",
       "    <tr>\n",
       "      <th>...</th>\n",
       "      <td>...</td>\n",
       "      <td>...</td>\n",
       "      <td>...</td>\n",
       "      <td>...</td>\n",
       "      <td>...</td>\n",
       "      <td>...</td>\n",
       "      <td>...</td>\n",
       "      <td>...</td>\n",
       "      <td>...</td>\n",
       "    </tr>\n",
       "    <tr>\n",
       "      <th>3170</th>\n",
       "      <td>3171</td>\n",
       "      <td>2017-10-01 22:42:43</td>\n",
       "      <td>9.145914e+17</td>\n",
       "      <td>https://t.co/akNYg4azQU https://t.co/Or9dCa96Ww</td>\n",
       "      <td>23</td>\n",
       "      <td>49</td>\n",
       "      <td>243</td>\n",
       "      <td>photo</td>\n",
       "      <td>small</td>\n",
       "    </tr>\n",
       "    <tr>\n",
       "      <th>3171</th>\n",
       "      <td>3172</td>\n",
       "      <td>2017-10-01 22:40:25</td>\n",
       "      <td>9.145908e+17</td>\n",
       "      <td>Chosen few. @josh3rosen 🌹🏈 https://t.co/JwreCM...</td>\n",
       "      <td>50</td>\n",
       "      <td>259</td>\n",
       "      <td>1002</td>\n",
       "      <td>photo</td>\n",
       "      <td>small</td>\n",
       "    </tr>\n",
       "    <tr>\n",
       "      <th>3172</th>\n",
       "      <td>3173</td>\n",
       "      <td>2017-10-01 22:32:31</td>\n",
       "      <td>9.145889e+17</td>\n",
       "      <td>https://t.co/EcaQQdLyTC https://t.co/YN5v6JhjRa</td>\n",
       "      <td>23</td>\n",
       "      <td>55</td>\n",
       "      <td>505</td>\n",
       "      <td>photo</td>\n",
       "      <td>small</td>\n",
       "    </tr>\n",
       "    <tr>\n",
       "      <th>3173</th>\n",
       "      <td>3174</td>\n",
       "      <td>2017-10-01 21:37:55</td>\n",
       "      <td>9.145751e+17</td>\n",
       "      <td>https://t.co/BgU1AsZcMu https://t.co/fDWDnYof9x</td>\n",
       "      <td>23</td>\n",
       "      <td>46</td>\n",
       "      <td>526</td>\n",
       "      <td>photo</td>\n",
       "      <td>small</td>\n",
       "    </tr>\n",
       "    <tr>\n",
       "      <th>3174</th>\n",
       "      <td>3175</td>\n",
       "      <td>2017-10-01 18:56:25</td>\n",
       "      <td>9.145345e+17</td>\n",
       "      <td>Snoop special needs camp today https://t.co/oq...</td>\n",
       "      <td>54</td>\n",
       "      <td>57</td>\n",
       "      <td>424</td>\n",
       "      <td>photo</td>\n",
       "      <td>small</td>\n",
       "    </tr>\n",
       "  </tbody>\n",
       "</table>\n",
       "<p>3175 rows × 9 columns</p>\n",
       "</div>"
      ],
      "text/plain": [
       "      Unnamed: 0           created_at            id  \\\n",
       "0              1  2022-12-02 15:11:19  1.598681e+18   \n",
       "1              2  2022-11-30 19:02:52  1.598015e+18   \n",
       "2              3  2022-11-30 12:25:36  1.597915e+18   \n",
       "3              4  2022-11-29 00:02:13  1.597365e+18   \n",
       "4              5  2022-11-28 19:59:36  1.597304e+18   \n",
       "...          ...                  ...           ...   \n",
       "3170        3171  2017-10-01 22:42:43  9.145914e+17   \n",
       "3171        3172  2017-10-01 22:40:25  9.145908e+17   \n",
       "3172        3173  2017-10-01 22:32:31  9.145889e+17   \n",
       "3173        3174  2017-10-01 21:37:55  9.145751e+17   \n",
       "3174        3175  2017-10-01 18:56:25  9.145345e+17   \n",
       "\n",
       "                                              full_text  display_text_range  \\\n",
       "0     Our new @mount_westmore single “ACTIVATED” out...                 108   \n",
       "1     RT @DeathRowWine: Wine and hit tracks… yes sir...                 106   \n",
       "2                               @RedditCFB 🟡🔴✌🏿⚔️🏈🤷🏾‍♂️                  23   \n",
       "3                    Frog Dogg. https://t.co/72Ced6UeM0                  10   \n",
       "4     RT @shiller: 1/ Introducing Shiller.\\r\\n\\r\\nA ...                 140   \n",
       "...                                                 ...                 ...   \n",
       "3170    https://t.co/akNYg4azQU https://t.co/Or9dCa96Ww                  23   \n",
       "3171  Chosen few. @josh3rosen 🌹🏈 https://t.co/JwreCM...                  50   \n",
       "3172    https://t.co/EcaQQdLyTC https://t.co/YN5v6JhjRa                  23   \n",
       "3173    https://t.co/BgU1AsZcMu https://t.co/fDWDnYof9x                  23   \n",
       "3174  Snoop special needs camp today https://t.co/oq...                  54   \n",
       "\n",
       "      retweet_count  favorite_count media_type charGroup  \n",
       "0               133            1177      photo    middle  \n",
       "1                64               0      photo    middle  \n",
       "2                48            1589          0     small  \n",
       "3             31060          490106      photo     small  \n",
       "4                83               0          0    middle  \n",
       "...             ...             ...        ...       ...  \n",
       "3170             49             243      photo     small  \n",
       "3171            259            1002      photo     small  \n",
       "3172             55             505      photo     small  \n",
       "3173             46             526      photo     small  \n",
       "3174             57             424      photo     small  \n",
       "\n",
       "[3175 rows x 9 columns]"
      ]
     },
     "execution_count": 58,
     "metadata": {},
     "output_type": "execute_result"
    }
   ],
   "source": [
    "df_raw = pd.read_csv('SnoopDogg.csv')\n",
    "df_raw = df_raw.fillna(value=0)\n",
    "df_raw"
   ]
  },
  {
   "cell_type": "code",
   "execution_count": 59,
   "id": "30ff1a4b",
   "metadata": {},
   "outputs": [
    {
     "data": {
      "text/html": [
       "<div>\n",
       "<style scoped>\n",
       "    .dataframe tbody tr th:only-of-type {\n",
       "        vertical-align: middle;\n",
       "    }\n",
       "\n",
       "    .dataframe tbody tr th {\n",
       "        vertical-align: top;\n",
       "    }\n",
       "\n",
       "    .dataframe thead th {\n",
       "        text-align: right;\n",
       "    }\n",
       "</style>\n",
       "<table border=\"1\" class=\"dataframe\">\n",
       "  <thead>\n",
       "    <tr style=\"text-align: right;\">\n",
       "      <th></th>\n",
       "      <th>Unnamed: 0</th>\n",
       "      <th>created_at</th>\n",
       "      <th>id</th>\n",
       "      <th>full_text</th>\n",
       "      <th>display_text_range</th>\n",
       "      <th>retweet_count</th>\n",
       "      <th>favorite_count</th>\n",
       "      <th>media_type</th>\n",
       "      <th>charGroup</th>\n",
       "    </tr>\n",
       "  </thead>\n",
       "  <tbody>\n",
       "    <tr>\n",
       "      <th>0</th>\n",
       "      <td>1</td>\n",
       "      <td>2022-12-02 15:11:19</td>\n",
       "      <td>1.598681e+18</td>\n",
       "      <td>Our new @mount_westmore single “ACTIVATED” out...</td>\n",
       "      <td>108</td>\n",
       "      <td>133</td>\n",
       "      <td>1177</td>\n",
       "      <td>photo</td>\n",
       "      <td>middle</td>\n",
       "    </tr>\n",
       "    <tr>\n",
       "      <th>2</th>\n",
       "      <td>3</td>\n",
       "      <td>2022-11-30 12:25:36</td>\n",
       "      <td>1.597915e+18</td>\n",
       "      <td>@RedditCFB 🟡🔴✌🏿⚔️🏈🤷🏾‍♂️</td>\n",
       "      <td>23</td>\n",
       "      <td>48</td>\n",
       "      <td>1589</td>\n",
       "      <td>0</td>\n",
       "      <td>small</td>\n",
       "    </tr>\n",
       "    <tr>\n",
       "      <th>3</th>\n",
       "      <td>4</td>\n",
       "      <td>2022-11-29 00:02:13</td>\n",
       "      <td>1.597365e+18</td>\n",
       "      <td>Frog Dogg. https://t.co/72Ced6UeM0</td>\n",
       "      <td>10</td>\n",
       "      <td>31060</td>\n",
       "      <td>490106</td>\n",
       "      <td>photo</td>\n",
       "      <td>small</td>\n",
       "    </tr>\n",
       "    <tr>\n",
       "      <th>5</th>\n",
       "      <td>6</td>\n",
       "      <td>2022-11-27 20:48:27</td>\n",
       "      <td>1.596954e+18</td>\n",
       "      <td>Puff. Puff pass</td>\n",
       "      <td>15</td>\n",
       "      <td>10731</td>\n",
       "      <td>80973</td>\n",
       "      <td>0</td>\n",
       "      <td>small</td>\n",
       "    </tr>\n",
       "    <tr>\n",
       "      <th>6</th>\n",
       "      <td>7</td>\n",
       "      <td>2022-11-27 20:46:10</td>\n",
       "      <td>1.596954e+18</td>\n",
       "      <td>SnoopDobbyDobb https://t.co/4B0aHHr7xj</td>\n",
       "      <td>14</td>\n",
       "      <td>74208</td>\n",
       "      <td>861804</td>\n",
       "      <td>photo</td>\n",
       "      <td>small</td>\n",
       "    </tr>\n",
       "    <tr>\n",
       "      <th>...</th>\n",
       "      <td>...</td>\n",
       "      <td>...</td>\n",
       "      <td>...</td>\n",
       "      <td>...</td>\n",
       "      <td>...</td>\n",
       "      <td>...</td>\n",
       "      <td>...</td>\n",
       "      <td>...</td>\n",
       "      <td>...</td>\n",
       "    </tr>\n",
       "    <tr>\n",
       "      <th>3170</th>\n",
       "      <td>3171</td>\n",
       "      <td>2017-10-01 22:42:43</td>\n",
       "      <td>9.145914e+17</td>\n",
       "      <td>https://t.co/akNYg4azQU https://t.co/Or9dCa96Ww</td>\n",
       "      <td>23</td>\n",
       "      <td>49</td>\n",
       "      <td>243</td>\n",
       "      <td>photo</td>\n",
       "      <td>small</td>\n",
       "    </tr>\n",
       "    <tr>\n",
       "      <th>3171</th>\n",
       "      <td>3172</td>\n",
       "      <td>2017-10-01 22:40:25</td>\n",
       "      <td>9.145908e+17</td>\n",
       "      <td>Chosen few. @josh3rosen 🌹🏈 https://t.co/JwreCM...</td>\n",
       "      <td>50</td>\n",
       "      <td>259</td>\n",
       "      <td>1002</td>\n",
       "      <td>photo</td>\n",
       "      <td>small</td>\n",
       "    </tr>\n",
       "    <tr>\n",
       "      <th>3172</th>\n",
       "      <td>3173</td>\n",
       "      <td>2017-10-01 22:32:31</td>\n",
       "      <td>9.145889e+17</td>\n",
       "      <td>https://t.co/EcaQQdLyTC https://t.co/YN5v6JhjRa</td>\n",
       "      <td>23</td>\n",
       "      <td>55</td>\n",
       "      <td>505</td>\n",
       "      <td>photo</td>\n",
       "      <td>small</td>\n",
       "    </tr>\n",
       "    <tr>\n",
       "      <th>3173</th>\n",
       "      <td>3174</td>\n",
       "      <td>2017-10-01 21:37:55</td>\n",
       "      <td>9.145751e+17</td>\n",
       "      <td>https://t.co/BgU1AsZcMu https://t.co/fDWDnYof9x</td>\n",
       "      <td>23</td>\n",
       "      <td>46</td>\n",
       "      <td>526</td>\n",
       "      <td>photo</td>\n",
       "      <td>small</td>\n",
       "    </tr>\n",
       "    <tr>\n",
       "      <th>3174</th>\n",
       "      <td>3175</td>\n",
       "      <td>2017-10-01 18:56:25</td>\n",
       "      <td>9.145345e+17</td>\n",
       "      <td>Snoop special needs camp today https://t.co/oq...</td>\n",
       "      <td>54</td>\n",
       "      <td>57</td>\n",
       "      <td>424</td>\n",
       "      <td>photo</td>\n",
       "      <td>small</td>\n",
       "    </tr>\n",
       "  </tbody>\n",
       "</table>\n",
       "<p>2192 rows × 9 columns</p>\n",
       "</div>"
      ],
      "text/plain": [
       "      Unnamed: 0           created_at            id  \\\n",
       "0              1  2022-12-02 15:11:19  1.598681e+18   \n",
       "2              3  2022-11-30 12:25:36  1.597915e+18   \n",
       "3              4  2022-11-29 00:02:13  1.597365e+18   \n",
       "5              6  2022-11-27 20:48:27  1.596954e+18   \n",
       "6              7  2022-11-27 20:46:10  1.596954e+18   \n",
       "...          ...                  ...           ...   \n",
       "3170        3171  2017-10-01 22:42:43  9.145914e+17   \n",
       "3171        3172  2017-10-01 22:40:25  9.145908e+17   \n",
       "3172        3173  2017-10-01 22:32:31  9.145889e+17   \n",
       "3173        3174  2017-10-01 21:37:55  9.145751e+17   \n",
       "3174        3175  2017-10-01 18:56:25  9.145345e+17   \n",
       "\n",
       "                                              full_text  display_text_range  \\\n",
       "0     Our new @mount_westmore single “ACTIVATED” out...                 108   \n",
       "2                               @RedditCFB 🟡🔴✌🏿⚔️🏈🤷🏾‍♂️                  23   \n",
       "3                    Frog Dogg. https://t.co/72Ced6UeM0                  10   \n",
       "5                                       Puff. Puff pass                  15   \n",
       "6                SnoopDobbyDobb https://t.co/4B0aHHr7xj                  14   \n",
       "...                                                 ...                 ...   \n",
       "3170    https://t.co/akNYg4azQU https://t.co/Or9dCa96Ww                  23   \n",
       "3171  Chosen few. @josh3rosen 🌹🏈 https://t.co/JwreCM...                  50   \n",
       "3172    https://t.co/EcaQQdLyTC https://t.co/YN5v6JhjRa                  23   \n",
       "3173    https://t.co/BgU1AsZcMu https://t.co/fDWDnYof9x                  23   \n",
       "3174  Snoop special needs camp today https://t.co/oq...                  54   \n",
       "\n",
       "      retweet_count  favorite_count media_type charGroup  \n",
       "0               133            1177      photo    middle  \n",
       "2                48            1589          0     small  \n",
       "3             31060          490106      photo     small  \n",
       "5             10731           80973          0     small  \n",
       "6             74208          861804      photo     small  \n",
       "...             ...             ...        ...       ...  \n",
       "3170             49             243      photo     small  \n",
       "3171            259            1002      photo     small  \n",
       "3172             55             505      photo     small  \n",
       "3173             46             526      photo     small  \n",
       "3174             57             424      photo     small  \n",
       "\n",
       "[2192 rows x 9 columns]"
      ]
     },
     "execution_count": 59,
     "metadata": {},
     "output_type": "execute_result"
    }
   ],
   "source": [
    "df_clean = df_raw[df_raw['favorite_count'] > 0]\n",
    "df_clean"
   ]
  },
  {
   "cell_type": "code",
   "execution_count": 60,
   "id": "ff0c6a92",
   "metadata": {},
   "outputs": [],
   "source": [
    "datetime_df = pd.to_datetime(df_clean['created_at'], format=\"%Y-%m-%d %H:%M:%S\")\n",
    "\n",
    "hour_df = datetime_df.dt.hour\n",
    "date_df = datetime_df.dt.date\n",
    "dates_name_df = datetime_df.dt.day_name()"
   ]
  },
  {
   "cell_type": "code",
   "execution_count": 61,
   "id": "ba1f15b9",
   "metadata": {},
   "outputs": [
    {
     "name": "stderr",
     "output_type": "stream",
     "text": [
      "C:\\Users\\Felix\\AppData\\Local\\Temp/ipykernel_3656/937545571.py:1: SettingWithCopyWarning: \n",
      "A value is trying to be set on a copy of a slice from a DataFrame.\n",
      "Try using .loc[row_indexer,col_indexer] = value instead\n",
      "\n",
      "See the caveats in the documentation: https://pandas.pydata.org/pandas-docs/stable/user_guide/indexing.html#returning-a-view-versus-a-copy\n",
      "  df_clean['hour'] = hour_df\n",
      "C:\\Users\\Felix\\AppData\\Local\\Temp/ipykernel_3656/937545571.py:2: SettingWithCopyWarning: \n",
      "A value is trying to be set on a copy of a slice from a DataFrame.\n",
      "Try using .loc[row_indexer,col_indexer] = value instead\n",
      "\n",
      "See the caveats in the documentation: https://pandas.pydata.org/pandas-docs/stable/user_guide/indexing.html#returning-a-view-versus-a-copy\n",
      "  df_clean['date'] = date_df\n",
      "C:\\Users\\Felix\\AppData\\Local\\Temp/ipykernel_3656/937545571.py:3: SettingWithCopyWarning: \n",
      "A value is trying to be set on a copy of a slice from a DataFrame.\n",
      "Try using .loc[row_indexer,col_indexer] = value instead\n",
      "\n",
      "See the caveats in the documentation: https://pandas.pydata.org/pandas-docs/stable/user_guide/indexing.html#returning-a-view-versus-a-copy\n",
      "  df_clean['dates_name'] = dates_name_df\n"
     ]
    }
   ],
   "source": [
    "df_clean['hour'] = hour_df\n",
    "df_clean['date'] = date_df\n",
    "df_clean['dates_name'] = dates_name_df"
   ]
  },
  {
   "cell_type": "code",
   "execution_count": 62,
   "id": "a8b0bf6a",
   "metadata": {},
   "outputs": [
    {
     "data": {
      "text/html": [
       "<div>\n",
       "<style scoped>\n",
       "    .dataframe tbody tr th:only-of-type {\n",
       "        vertical-align: middle;\n",
       "    }\n",
       "\n",
       "    .dataframe tbody tr th {\n",
       "        vertical-align: top;\n",
       "    }\n",
       "\n",
       "    .dataframe thead th {\n",
       "        text-align: right;\n",
       "    }\n",
       "</style>\n",
       "<table border=\"1\" class=\"dataframe\">\n",
       "  <thead>\n",
       "    <tr style=\"text-align: right;\">\n",
       "      <th></th>\n",
       "      <th>Unnamed: 0</th>\n",
       "      <th>created_at</th>\n",
       "      <th>id</th>\n",
       "      <th>full_text</th>\n",
       "      <th>display_text_range</th>\n",
       "      <th>retweet_count</th>\n",
       "      <th>favorite_count</th>\n",
       "      <th>media_type</th>\n",
       "      <th>charGroup</th>\n",
       "      <th>hour</th>\n",
       "      <th>date</th>\n",
       "      <th>dates_name</th>\n",
       "    </tr>\n",
       "  </thead>\n",
       "  <tbody>\n",
       "    <tr>\n",
       "      <th>0</th>\n",
       "      <td>1</td>\n",
       "      <td>2022-12-02 15:11:19</td>\n",
       "      <td>1.598681e+18</td>\n",
       "      <td>Our new @mount_westmore single “ACTIVATED” out...</td>\n",
       "      <td>108</td>\n",
       "      <td>133</td>\n",
       "      <td>1177</td>\n",
       "      <td>photo</td>\n",
       "      <td>middle</td>\n",
       "      <td>15</td>\n",
       "      <td>2022-12-02</td>\n",
       "      <td>Friday</td>\n",
       "    </tr>\n",
       "    <tr>\n",
       "      <th>2</th>\n",
       "      <td>3</td>\n",
       "      <td>2022-11-30 12:25:36</td>\n",
       "      <td>1.597915e+18</td>\n",
       "      <td>@RedditCFB 🟡🔴✌🏿⚔️🏈🤷🏾‍♂️</td>\n",
       "      <td>23</td>\n",
       "      <td>48</td>\n",
       "      <td>1589</td>\n",
       "      <td>0</td>\n",
       "      <td>small</td>\n",
       "      <td>12</td>\n",
       "      <td>2022-11-30</td>\n",
       "      <td>Wednesday</td>\n",
       "    </tr>\n",
       "    <tr>\n",
       "      <th>3</th>\n",
       "      <td>4</td>\n",
       "      <td>2022-11-29 00:02:13</td>\n",
       "      <td>1.597365e+18</td>\n",
       "      <td>Frog Dogg. https://t.co/72Ced6UeM0</td>\n",
       "      <td>10</td>\n",
       "      <td>31060</td>\n",
       "      <td>490106</td>\n",
       "      <td>photo</td>\n",
       "      <td>small</td>\n",
       "      <td>0</td>\n",
       "      <td>2022-11-29</td>\n",
       "      <td>Tuesday</td>\n",
       "    </tr>\n",
       "    <tr>\n",
       "      <th>5</th>\n",
       "      <td>6</td>\n",
       "      <td>2022-11-27 20:48:27</td>\n",
       "      <td>1.596954e+18</td>\n",
       "      <td>Puff. Puff pass</td>\n",
       "      <td>15</td>\n",
       "      <td>10731</td>\n",
       "      <td>80973</td>\n",
       "      <td>0</td>\n",
       "      <td>small</td>\n",
       "      <td>20</td>\n",
       "      <td>2022-11-27</td>\n",
       "      <td>Sunday</td>\n",
       "    </tr>\n",
       "    <tr>\n",
       "      <th>6</th>\n",
       "      <td>7</td>\n",
       "      <td>2022-11-27 20:46:10</td>\n",
       "      <td>1.596954e+18</td>\n",
       "      <td>SnoopDobbyDobb https://t.co/4B0aHHr7xj</td>\n",
       "      <td>14</td>\n",
       "      <td>74208</td>\n",
       "      <td>861804</td>\n",
       "      <td>photo</td>\n",
       "      <td>small</td>\n",
       "      <td>20</td>\n",
       "      <td>2022-11-27</td>\n",
       "      <td>Sunday</td>\n",
       "    </tr>\n",
       "    <tr>\n",
       "      <th>...</th>\n",
       "      <td>...</td>\n",
       "      <td>...</td>\n",
       "      <td>...</td>\n",
       "      <td>...</td>\n",
       "      <td>...</td>\n",
       "      <td>...</td>\n",
       "      <td>...</td>\n",
       "      <td>...</td>\n",
       "      <td>...</td>\n",
       "      <td>...</td>\n",
       "      <td>...</td>\n",
       "      <td>...</td>\n",
       "    </tr>\n",
       "    <tr>\n",
       "      <th>3170</th>\n",
       "      <td>3171</td>\n",
       "      <td>2017-10-01 22:42:43</td>\n",
       "      <td>9.145914e+17</td>\n",
       "      <td>https://t.co/akNYg4azQU https://t.co/Or9dCa96Ww</td>\n",
       "      <td>23</td>\n",
       "      <td>49</td>\n",
       "      <td>243</td>\n",
       "      <td>photo</td>\n",
       "      <td>small</td>\n",
       "      <td>22</td>\n",
       "      <td>2017-10-01</td>\n",
       "      <td>Sunday</td>\n",
       "    </tr>\n",
       "    <tr>\n",
       "      <th>3171</th>\n",
       "      <td>3172</td>\n",
       "      <td>2017-10-01 22:40:25</td>\n",
       "      <td>9.145908e+17</td>\n",
       "      <td>Chosen few. @josh3rosen 🌹🏈 https://t.co/JwreCM...</td>\n",
       "      <td>50</td>\n",
       "      <td>259</td>\n",
       "      <td>1002</td>\n",
       "      <td>photo</td>\n",
       "      <td>small</td>\n",
       "      <td>22</td>\n",
       "      <td>2017-10-01</td>\n",
       "      <td>Sunday</td>\n",
       "    </tr>\n",
       "    <tr>\n",
       "      <th>3172</th>\n",
       "      <td>3173</td>\n",
       "      <td>2017-10-01 22:32:31</td>\n",
       "      <td>9.145889e+17</td>\n",
       "      <td>https://t.co/EcaQQdLyTC https://t.co/YN5v6JhjRa</td>\n",
       "      <td>23</td>\n",
       "      <td>55</td>\n",
       "      <td>505</td>\n",
       "      <td>photo</td>\n",
       "      <td>small</td>\n",
       "      <td>22</td>\n",
       "      <td>2017-10-01</td>\n",
       "      <td>Sunday</td>\n",
       "    </tr>\n",
       "    <tr>\n",
       "      <th>3173</th>\n",
       "      <td>3174</td>\n",
       "      <td>2017-10-01 21:37:55</td>\n",
       "      <td>9.145751e+17</td>\n",
       "      <td>https://t.co/BgU1AsZcMu https://t.co/fDWDnYof9x</td>\n",
       "      <td>23</td>\n",
       "      <td>46</td>\n",
       "      <td>526</td>\n",
       "      <td>photo</td>\n",
       "      <td>small</td>\n",
       "      <td>21</td>\n",
       "      <td>2017-10-01</td>\n",
       "      <td>Sunday</td>\n",
       "    </tr>\n",
       "    <tr>\n",
       "      <th>3174</th>\n",
       "      <td>3175</td>\n",
       "      <td>2017-10-01 18:56:25</td>\n",
       "      <td>9.145345e+17</td>\n",
       "      <td>Snoop special needs camp today https://t.co/oq...</td>\n",
       "      <td>54</td>\n",
       "      <td>57</td>\n",
       "      <td>424</td>\n",
       "      <td>photo</td>\n",
       "      <td>small</td>\n",
       "      <td>18</td>\n",
       "      <td>2017-10-01</td>\n",
       "      <td>Sunday</td>\n",
       "    </tr>\n",
       "  </tbody>\n",
       "</table>\n",
       "<p>2192 rows × 12 columns</p>\n",
       "</div>"
      ],
      "text/plain": [
       "      Unnamed: 0           created_at            id  \\\n",
       "0              1  2022-12-02 15:11:19  1.598681e+18   \n",
       "2              3  2022-11-30 12:25:36  1.597915e+18   \n",
       "3              4  2022-11-29 00:02:13  1.597365e+18   \n",
       "5              6  2022-11-27 20:48:27  1.596954e+18   \n",
       "6              7  2022-11-27 20:46:10  1.596954e+18   \n",
       "...          ...                  ...           ...   \n",
       "3170        3171  2017-10-01 22:42:43  9.145914e+17   \n",
       "3171        3172  2017-10-01 22:40:25  9.145908e+17   \n",
       "3172        3173  2017-10-01 22:32:31  9.145889e+17   \n",
       "3173        3174  2017-10-01 21:37:55  9.145751e+17   \n",
       "3174        3175  2017-10-01 18:56:25  9.145345e+17   \n",
       "\n",
       "                                              full_text  display_text_range  \\\n",
       "0     Our new @mount_westmore single “ACTIVATED” out...                 108   \n",
       "2                               @RedditCFB 🟡🔴✌🏿⚔️🏈🤷🏾‍♂️                  23   \n",
       "3                    Frog Dogg. https://t.co/72Ced6UeM0                  10   \n",
       "5                                       Puff. Puff pass                  15   \n",
       "6                SnoopDobbyDobb https://t.co/4B0aHHr7xj                  14   \n",
       "...                                                 ...                 ...   \n",
       "3170    https://t.co/akNYg4azQU https://t.co/Or9dCa96Ww                  23   \n",
       "3171  Chosen few. @josh3rosen 🌹🏈 https://t.co/JwreCM...                  50   \n",
       "3172    https://t.co/EcaQQdLyTC https://t.co/YN5v6JhjRa                  23   \n",
       "3173    https://t.co/BgU1AsZcMu https://t.co/fDWDnYof9x                  23   \n",
       "3174  Snoop special needs camp today https://t.co/oq...                  54   \n",
       "\n",
       "      retweet_count  favorite_count media_type charGroup  hour        date  \\\n",
       "0               133            1177      photo    middle    15  2022-12-02   \n",
       "2                48            1589          0     small    12  2022-11-30   \n",
       "3             31060          490106      photo     small     0  2022-11-29   \n",
       "5             10731           80973          0     small    20  2022-11-27   \n",
       "6             74208          861804      photo     small    20  2022-11-27   \n",
       "...             ...             ...        ...       ...   ...         ...   \n",
       "3170             49             243      photo     small    22  2017-10-01   \n",
       "3171            259            1002      photo     small    22  2017-10-01   \n",
       "3172             55             505      photo     small    22  2017-10-01   \n",
       "3173             46             526      photo     small    21  2017-10-01   \n",
       "3174             57             424      photo     small    18  2017-10-01   \n",
       "\n",
       "     dates_name  \n",
       "0        Friday  \n",
       "2     Wednesday  \n",
       "3       Tuesday  \n",
       "5        Sunday  \n",
       "6        Sunday  \n",
       "...         ...  \n",
       "3170     Sunday  \n",
       "3171     Sunday  \n",
       "3172     Sunday  \n",
       "3173     Sunday  \n",
       "3174     Sunday  \n",
       "\n",
       "[2192 rows x 12 columns]"
      ]
     },
     "execution_count": 62,
     "metadata": {},
     "output_type": "execute_result"
    }
   ],
   "source": [
    "df_clean"
   ]
  },
  {
   "cell_type": "code",
   "execution_count": 63,
   "id": "a4fc294b",
   "metadata": {
    "scrolled": false
   },
   "outputs": [
    {
     "name": "stdout",
     "output_type": "stream",
     "text": [
      "count      2192.000000\n",
      "mean       5579.791058\n",
      "std       36184.150292\n",
      "min           4.000000\n",
      "25%         506.000000\n",
      "50%         924.000000\n",
      "75%        1873.250000\n",
      "max      861804.000000\n",
      "Name: favorite_count, dtype: float64\n"
     ]
    },
    {
     "data": {
      "text/plain": [
       "<AxesSubplot:>"
      ]
     },
     "execution_count": 63,
     "metadata": {},
     "output_type": "execute_result"
    },
    {
     "data": {
      "image/png": "[encoded data removed]",
      "text/plain": [
       "<Figure size 432x288 with 1 Axes>"
      ]
     },
     "metadata": {
      "needs_background": "light"
     },
     "output_type": "display_data"
    }
   ],
   "source": [
    "favorite = df_clean['favorite_count'].describe()\n",
    "print(favorite)\n",
    "df_clean.boxplot(column='favorite_count')"
   ]
  },
  {
   "cell_type": "code",
   "execution_count": null,
   "id": "f59d83e5",
   "metadata": {},
   "outputs": [],
   "source": []
  },
  {
   "cell_type": "code",
   "execution_count": 64,
   "id": "059964c3",
   "metadata": {},
   "outputs": [
    {
     "name": "stdout",
     "output_type": "stream",
     "text": [
      "count      2192.000000\n",
      "mean        742.973996\n",
      "std        4936.953357\n",
      "min           0.000000\n",
      "25%          66.000000\n",
      "50%         122.000000\n",
      "75%         260.250000\n",
      "max      131228.000000\n",
      "Name: retweet_count, dtype: float64\n"
     ]
    },
    {
     "data": {
      "text/plain": [
       "<AxesSubplot:>"
      ]
     },
     "execution_count": 64,
     "metadata": {},
     "output_type": "execute_result"
    },
    {
     "data": {
      "image/png": "[encoded data removed]",
      "text/plain": [
       "<Figure size 432x288 with 1 Axes>"
      ]
     },
     "metadata": {
      "needs_background": "light"
     },
     "output_type": "display_data"
    }
   ],
   "source": [
    "retweet = df_clean['retweet_count'].describe()\n",
    "print(retweet)\n",
    "df_clean.boxplot(column='retweet_count')"
   ]
  },
  {
   "cell_type": "code",
   "execution_count": 88,
   "id": "4035b7e1",
   "metadata": {},
   "outputs": [
    {
     "data": {
      "text/plain": [
       "Text(0.5, 1.0, 'Likes - Timeline')"
      ]
     },
     "execution_count": 88,
     "metadata": {},
     "output_type": "execute_result"
    },
    {
     "data": {
      "image/png": "[encoded data removed]",
      "text/plain": [
       "<Figure size 432x288 with 1 Axes>"
      ]
     },
     "metadata": {
      "needs_background": "light"
     },
     "output_type": "display_data"
    }
   ],
   "source": [
    "plt.plot(df_clean['date'], df_clean['favorite_count'])\n",
    "plt.title(label = \"Likes - Timeline\")"
   ]
  },
  {
   "cell_type": "code",
   "execution_count": 89,
   "id": "b096f9bd",
   "metadata": {},
   "outputs": [
    {
     "data": {
      "text/plain": [
       "Text(0.5, 1.0, 'Retweets - Timeline')"
      ]
     },
     "execution_count": 89,
     "metadata": {},
     "output_type": "execute_result"
    },
    {
     "data": {
      "image/png": "[encoded data removed]",
      "text/plain": [
       "<Figure size 432x288 with 1 Axes>"
      ]
     },
     "metadata": {
      "needs_background": "light"
     },
     "output_type": "display_data"
    }
   ],
   "source": [
    "plt.plot(df_clean['date'], df_clean['retweet_count'])\n",
    "plt.title(label = \"Retweets - Timeline\")"
   ]
  },
  {
   "cell_type": "code",
   "execution_count": 67,
   "id": "4c671bd7",
   "metadata": {},
   "outputs": [
    {
     "name": "stdout",
     "output_type": "stream",
     "text": [
      "2017-10-17    22\n",
      "2021-04-04    19\n",
      "2017-10-20    18\n",
      "2017-10-03    16\n",
      "2018-04-20    15\n",
      "              ..\n",
      "2020-06-21     1\n",
      "2020-06-07     1\n",
      "2020-06-06     1\n",
      "2020-06-03     1\n",
      "2020-05-29     1\n",
      "Name: date, Length: 975, dtype: int64\n"
     ]
    }
   ],
   "source": [
    "test = df_clean['date'].value_counts()\n",
    "print(test)"
   ]
  },
  {
   "cell_type": "code",
   "execution_count": 134,
   "id": "ab41f360",
   "metadata": {},
   "outputs": [
    {
     "data": {
      "text/plain": [
       "Text(0.5, 1.0, 'Histogramm Timeline SnoopDogg')"
      ]
     },
     "execution_count": 134,
     "metadata": {},
     "output_type": "execute_result"
    },
    {
     "data": {
      "image/png": "[encoded data removed]",
      "text/plain": [
       "<Figure size 432x288 with 1 Axes>"
      ]
     },
     "metadata": {
      "needs_background": "light"
     },
     "output_type": "display_data"
    }
   ],
   "source": [
    "plt.hist(df_clean['date'], bins = 60)\n",
    "plt.title(label = \"Histogramm Timeline SnoopDogg\")"
   ]
  },
  {
   "cell_type": "code",
   "execution_count": 117,
   "id": "d7a08dd6",
   "metadata": {},
   "outputs": [
    {
     "name": "stdout",
     "output_type": "stream",
     "text": [
      "975\n",
      "975\n"
     ]
    }
   ],
   "source": []
  },
  {
   "cell_type": "code",
   "execution_count": 133,
   "id": "ee0a080b",
   "metadata": {},
   "outputs": [
    {
     "data": {
      "text/plain": [
       "Text(0.5, 1.0, 'BarGraph - Timeline')"
      ]
     },
     "execution_count": 133,
     "metadata": {},
     "output_type": "execute_result"
    },
    {
     "data": {
      "image/png": "[encoded data removed]",
      "text/plain": [
       "<Figure size 432x288 with 1 Axes>"
      ]
     },
     "metadata": {
      "needs_background": "light"
     },
     "output_type": "display_data"
    }
   ],
   "source": [
    "y = df_clean['date'].value_counts().sort_values().sort_index()\n",
    "x = df_clean['date'].unique()\n",
    "reverse_x = x[::-1]\n",
    "\n",
    "plt.bar(reverse_x, y, width=1)\n",
    "plt.title(label = \"BarGraph - Timeline\")"
   ]
  },
  {
   "cell_type": "code",
   "execution_count": 135,
   "id": "cb7513b8",
   "metadata": {},
   "outputs": [
    {
     "name": "stdout",
     "output_type": "stream",
     "text": [
      "[1010630, 514248, 443007, 2062559, 994520, 286925, 865066, 105730, 109741, 12736, 24263, 18321, 23681, 40033, 16386, 155275, 275637, 1070954, 1169041, 359289, 1477201, 397443, 211117, 587099]\n",
      "0     178\n",
      "1     159\n",
      "2     147\n",
      "3     137\n",
      "4     147\n",
      "5      70\n",
      "6      59\n",
      "7      69\n",
      "8      36\n",
      "9       6\n",
      "10     22\n",
      "11     11\n",
      "12      9\n",
      "13     12\n",
      "14      8\n",
      "15      9\n",
      "16     65\n",
      "17     82\n",
      "18    174\n",
      "19    177\n",
      "20    147\n",
      "21    172\n",
      "22    148\n",
      "23    148\n",
      "Name: hour, dtype: int64\n",
      "[5677.696629213483, 3234.264150943396, 3013.6530612244896, 15055.175182481751, 6765.442176870748, 4098.928571428572, 14662.135593220339, 1532.3188405797102, 3048.3611111111113, 2122.6666666666665, 1102.8636363636363, 1665.5454545454545, 2631.222222222222, 3336.0833333333335, 2048.25, 17252.777777777777, 4240.569230769231, 13060.414634146342, 6718.626436781609, 2029.8813559322034, 10048.986394557824, 2310.7151162790697, 1426.4662162162163, 3966.885135135135]\n"
     ]
    },
    {
     "data": {
      "text/plain": [
       "Text(0.5, 1.0, 'Durchschnitt ~ Likes - Stunde')"
      ]
     },
     "execution_count": 135,
     "metadata": {},
     "output_type": "execute_result"
    },
    {
     "data": {
      "image/png": "[encoded data removed]",
      "text/plain": [
       "<Figure size 432x288 with 1 Axes>"
      ]
     },
     "metadata": {
      "needs_background": "light"
     },
     "output_type": "display_data"
    }
   ],
   "source": [
    "x = df_clean['hour'].unique()\n",
    "x = np.sort(x)\n",
    "\n",
    "hour_value = df_clean['hour'].value_counts().sort_index()\n",
    "\n",
    "favorite_count = []\n",
    "\n",
    "for i in range(0, 24):\n",
    "    hours_df = df_clean[df_clean['hour']==i]\n",
    "    sum_x_fav = sum(hours_df['favorite_count'])\n",
    "    favorite_count.append(sum_x_fav)\n",
    "print(favorite_count)\n",
    "print(hour_value)\n",
    "\n",
    "final_result = []\n",
    "for i in range(0,24):\n",
    "    result = favorite_count[i] / hour_value[i]\n",
    "    final_result.append(result)\n",
    "print(final_result)\n",
    "\n",
    "plt.bar(x, final_result)\n",
    "plt.xlim(-1, 24)\n",
    "plt.xticks(range(0,24))\n",
    "plt.xlabel('Stunde')\n",
    "plt.ylabel('avg~favorite_count')\n",
    "plt.title(label = 'Durchschnitt ~ Likes - Stunde')"
   ]
  },
  {
   "cell_type": "code",
   "execution_count": 136,
   "id": "82448361",
   "metadata": {},
   "outputs": [
    {
     "name": "stdout",
     "output_type": "stream",
     "text": [
      "[102195, 92676, 57810, 280983, 200471, 27259, 81375, 12969, 13093, 1458, 4565, 2058, 3607, 4174, 3153, 16112, 28607, 110386, 144813, 61357, 167723, 75805, 30929, 105021]\n",
      "0     178\n",
      "1     159\n",
      "2     147\n",
      "3     137\n",
      "4     147\n",
      "5      70\n",
      "6      59\n",
      "7      69\n",
      "8      36\n",
      "9       6\n",
      "10     22\n",
      "11     11\n",
      "12      9\n",
      "13     12\n",
      "14      8\n",
      "15      9\n",
      "16     65\n",
      "17     82\n",
      "18    174\n",
      "19    177\n",
      "20    147\n",
      "21    172\n",
      "22    148\n",
      "23    148\n",
      "Name: hour, dtype: int64\n",
      "[574.129213483146, 582.8679245283018, 393.265306122449, 2050.970802919708, 1363.748299319728, 389.4142857142857, 1379.2372881355932, 187.95652173913044, 363.69444444444446, 243.0, 207.5, 187.0909090909091, 400.77777777777777, 347.8333333333333, 394.125, 1790.2222222222222, 440.10769230769233, 1346.1707317073171, 832.2586206896551, 346.6497175141243, 1140.9727891156463, 440.7267441860465, 208.97972972972974, 709.6013513513514]\n"
     ]
    },
    {
     "data": {
      "text/plain": [
       "Text(0.5, 1.0, 'Durchschnitt ~ Retweets - Stunde')"
      ]
     },
     "execution_count": 136,
     "metadata": {},
     "output_type": "execute_result"
    },
    {
     "data": {
      "image/png": "[encoded data removed]",
      "text/plain": [
       "<Figure size 432x288 with 1 Axes>"
      ]
     },
     "metadata": {
      "needs_background": "light"
     },
     "output_type": "display_data"
    }
   ],
   "source": [
    "x = df_clean['hour'].unique()\n",
    "x = np.sort(x)\n",
    "\n",
    "hour_value = df_clean['hour'].value_counts().sort_index()\n",
    "\n",
    "retweet_count = []\n",
    "\n",
    "for i in range(0, 24):\n",
    "    hours_df = df_clean[df_clean['hour']==i]\n",
    "    sum_x_ret = sum(hours_df['retweet_count'])\n",
    "    retweet_count.append(sum_x_ret)\n",
    "print(retweet_count)\n",
    "print(hour_value)\n",
    "\n",
    "final_result_rt = []\n",
    "for i in range(0,24):\n",
    "    result = retweet_count[i] / hour_value[i]\n",
    "    final_result_rt.append(result)\n",
    "print(final_result_rt)\n",
    "\n",
    "plt.bar(x, final_result_rt)\n",
    "plt.xlim(-1, 24)\n",
    "plt.xticks(range(0,24))\n",
    "plt.xlabel('Stunde')\n",
    "plt.ylabel('avg~retweet_count')\n",
    "plt.title(label = 'Durchschnitt ~ Retweets - Stunde')"
   ]
  },
  {
   "cell_type": "code",
   "execution_count": 137,
   "id": "cb97b14d",
   "metadata": {},
   "outputs": [
    {
     "name": "stdout",
     "output_type": "stream",
     "text": [
      "Friday       380\n",
      "Monday       280\n",
      "Saturday     294\n",
      "Sunday       222\n",
      "Thursday     340\n",
      "Tuesday      342\n",
      "Wednesday    334\n",
      "Name: dates_name, dtype: int64\n",
      "[366443, 339215, 171931, 193365, 165291, 275748, 116606]\n",
      "[964.3236842105263, 1211.482142857143, 584.7993197278912, 871.0135135135135, 486.15, 806.280701754386, 349.11976047904193]\n"
     ]
    },
    {
     "data": {
      "text/plain": [
       "Text(0.5, 1.0, 'Durchschnitt ~ Retweets - Wochentagen')"
      ]
     },
     "execution_count": 137,
     "metadata": {},
     "output_type": "execute_result"
    },
    {
     "data": {
      "image/png": "[encoded data removed]",
      "text/plain": [
       "<Figure size 432x288 with 1 Axes>"
      ]
     },
     "metadata": {
      "needs_background": "light"
     },
     "output_type": "display_data"
    }
   ],
   "source": [
    "x = df_clean['dates_name'].unique()\n",
    "x = np.sort(x)\n",
    "\n",
    "weekday_value = df_clean['dates_name'].value_counts().sort_index()\n",
    "print(weekday_value)\n",
    "\n",
    "retweet_count = []\n",
    "weekdays_list = ['Friday', 'Monday', 'Saturday', 'Sunday', 'Thursday', 'Tuesday', 'Wednesday']\n",
    "\n",
    "for i in weekdays_list:\n",
    "    weekday_df = df_clean[df_clean['dates_name']==i]\n",
    "    sum_x_ret = sum(weekday_df['retweet_count'])\n",
    "    retweet_count.append(sum_x_ret)\n",
    "print(retweet_count)\n",
    "\n",
    "final_result_rt = []\n",
    "for i in range(0,7):\n",
    "    result = retweet_count[i] / weekday_value[i]\n",
    "    final_result_rt.append(result)\n",
    "print(final_result_rt)\n",
    "\n",
    "plt.bar(x, final_result_rt)\n",
    "plt.xlabel('weekday')\n",
    "plt.ylabel('avg~retweet_count')\n",
    "plt.title(label = 'Durchschnitt ~ Retweets - Wochentagen')"
   ]
  }
 ],
 "metadata": {
  "kernelspec": {
   "display_name": "Python 3 (ipykernel)",
   "language": "python",
   "name": "python3"
  },
  "language_info": {
   "codemirror_mode": {
    "name": "ipython",
    "version": 3
   },
   "file_extension": ".py",
   "mimetype": "text/x-python",
   "name": "python",
   "nbconvert_exporter": "python",
   "pygments_lexer": "ipython3",
   "version": "3.9.7"
  }
 },
 "nbformat": 4,
 "nbformat_minor": 5
}
